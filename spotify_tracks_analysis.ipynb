{
 "cells": [
  {
   "cell_type": "markdown",
   "metadata": {},
   "source": [
    "# Spotify Tracks analysis\n",
    "\n",
    "Análise exploratória de uma amostra dos dados da biblioteca do Spotify no inverno de 2019. A análise foi realizada utilizando-se o framework Apache Spark e a biblioteca para a ciência de dados Pandas, em menor medida.\n",
    "\n",
    "A análise exploratória consiste nas seguintes etapas:\n",
    "\n",
    "1. Leitura remota da base de dados e exibição do schema inicial do data frame;\n",
    "2. Remoção de colunas irrelevantes para a análise de dados;\n",
    "3. Adição de duas novas colunas no data frame;\n",
    "4. Análise dos dados das colunas recém adicionadas;\n",
    "5. Análise da média das popularidades mais altas dos tracks agrupados por artista;\n",
    "6. Análise da média da popularidade mais baixa dos tracks agrupados por artista;\n",
    "7. Análise da popularidade dos tracks explícitos agrupados por artista;\n",
    "8. Considerações finais;\n",
    "\n",
    "A base de dados pode ser obtida gratuitamente [aqui](https://raw.githubusercontent.com/ThinkR-open/datasets/master/tracks.csv).\n"
   ]
  },
  {
   "cell_type": "markdown",
   "metadata": {},
   "source": [
    "## 1. Leitura remota da base de dados e exibição do schema inicial do data frame\n",
    "\n",
    "A base de dados está armazenada remotamente em um repositório do GitHub. Para a leitura dos dados utiliza-se a biblioteca Pandas, visto que o PySpark faz a leitura apenas de arquivos locais.\n",
    "\n",
    "Após a leitura do data frame com o Pandas, cria-se um novo data frame com o PySpark.\n"
   ]
  },
  {
   "cell_type": "code",
   "execution_count": null,
   "metadata": {},
   "outputs": [],
   "source": [
    "import pandas as pd\n",
    "from pyspark.sql import functions as F\n",
    "from pyspark.sql import SparkSession\n",
    "\n",
    "\n",
    "spark = (SparkSession\n",
    "         .builder\n",
    "         .appName(\"Spotify Tracks Analysis\")\n",
    "         .getOrCreate()\n",
    "         )\n"
   ]
  },
  {
   "cell_type": "code",
   "execution_count": null,
   "metadata": {},
   "outputs": [],
   "source": [
    "pdf = pd.read_csv(\n",
    "    'https://raw.githubusercontent.com/ThinkR-open/datasets/master/tracks.csv')\n",
    "df = spark.createDataFrame(pdf)\n",
    "\n",
    "df.printSchema()\n"
   ]
  },
  {
   "cell_type": "markdown",
   "metadata": {},
   "source": [
    "## 2. Remoção de colunas irrelevantes para a análise de dados\n",
    "\n",
    "Como visto, algumas colunas no data frame são irrelevantes para a anállise exploratória dos dados. Portanto, é necessário fazer a remoção destas colunas, consequentemente tornando o data frame mais compacto.\n"
   ]
  },
  {
   "cell_type": "code",
   "execution_count": null,
   "metadata": {},
   "outputs": [],
   "source": [
    "df = df.drop(\"trackid\", \"track_uri\", \"album_id\", \"type\", \"uri\",\n",
    "             \"track_href\", \"analysis_url\", \"time_signature\")\n",
    "\n",
    "df.printSchema()\n"
   ]
  },
  {
   "cell_type": "markdown",
   "metadata": {},
   "source": [
    "## 3. Adição de duas novas colunas no data frame\n",
    "\n",
    "Duas novas colunas são adicionadas no data frame, **duration_minutes** e **duration_seconds**.\n",
    "\n",
    "A coluna **duration_seconds** é criada com base na coluna **duration_ms**, dividindo esta por 1000 e depois usando a função **cast** para transformar a coluna para o tipo inteiro (INT).\n",
    "\n",
    "Por sua vez, a coluna **duration_minutes** é criada com base na coluna **duration_seconds**, dividindo esta por 60 e depois usando a função **cast** para transformar a coluna para o tipo inteiro (INT).\n"
   ]
  },
  {
   "cell_type": "code",
   "execution_count": null,
   "metadata": {},
   "outputs": [],
   "source": [
    "df = df.withColumn(\"duration_seconds\", (df[\"duration_ms\"]/1000).cast(\"INT\"))\n",
    "df = df.withColumn(\"duration_minutes\", (df[\"duration_seconds\"]/60).cast(\"INT\"))\n"
   ]
  },
  {
   "cell_type": "markdown",
   "metadata": {},
   "source": [
    "## 4. Análise dos dados das colunas recém adicionadas\n",
    "\n",
    "Exibe uma descrição estatística das colunas **duration_minutes** e **duration_seconds**.\n",
    "\n",
    "Como visto, todos os tracks tem uma média de 3,52 minutos. O track com a menor duração tem 5 segundos, e o track com a maior duração tem 21 minutos.\n"
   ]
  },
  {
   "cell_type": "code",
   "execution_count": null,
   "metadata": {},
   "outputs": [],
   "source": [
    "(df\n",
    " .select(\"duration_minutes\", \"duration_seconds\")\n",
    " .summary()\n",
    " .show()\n",
    " )\n"
   ]
  },
  {
   "cell_type": "markdown",
   "metadata": {},
   "source": [
    "## 5. Análise da média das popularidades mais altas dos tracks agrupados por artista\n",
    "\n",
    "Primeiro agrupa-se o data fframe por artista. Depois, calcula a média da popularidade de cada track e a quantidade de tracks para cada um dos artistas. Ordena o data frame de forma descendente, e limita o dataframe para 10 linhas.\n"
   ]
  },
  {
   "cell_type": "code",
   "execution_count": null,
   "metadata": {},
   "outputs": [],
   "source": [
    "high_popularity = (df\n",
    "                   .groupBy(\"artist\")\n",
    "                   .agg({\"popularity\": \"mean\", \"track\": \"count\"})\n",
    "                   .orderBy([\"avg(popularity)\", \"count(track)\"], ascending=[False, False])\n",
    "                   .limit(10)\n",
    "                   )\n",
    "\n",
    "high_popularity.show()\n"
   ]
  },
  {
   "cell_type": "markdown",
   "metadata": {},
   "source": [
    "## 6. Análise da média da popularidade mais baixa dos tracks agrupados por artista\n",
    "\n",
    "Primeiro agrupa-se o data fframe por artista. Depois, calcula a média da popularidade de cada track e a quantidade de tracks para cada um dos artistas. Ordena o data frame de forma ascendente, e limita o dataframe para 10 linhas.\n"
   ]
  },
  {
   "cell_type": "code",
   "execution_count": null,
   "metadata": {},
   "outputs": [],
   "source": [
    "low_popularity = (df\n",
    "                  .groupBy(\"artist\")\n",
    "                  .agg({\"popularity\": \"mean\", \"track\": \"count\"})\n",
    "                  .orderBy([\"avg(popularity)\", \"count(track)\"], ascending=[True, False])\n",
    "                  .limit(10)\n",
    "                  )\n",
    "\n",
    "low_popularity.show()\n"
   ]
  },
  {
   "cell_type": "markdown",
   "metadata": {},
   "source": [
    "## 7. Análise da popularidade dos tracks explícitos agrupados por artista\n",
    "\n",
    "Filtra o data frame apenas por tracks explícitos. Depois, agrupa o data frame por artista, e calcula a média da popularidade de cada track junto com a quantidade de cada track por artista.\n"
   ]
  },
  {
   "cell_type": "code",
   "execution_count": 12,
   "metadata": {},
   "outputs": [
    {
     "name": "stdout",
     "output_type": "stream",
     "text": [
      "+--------------------+---------------+------------------+\n",
      "|              artist|explicit_tracks|    avg_popularity|\n",
      "+--------------------+---------------+------------------+\n",
      "|             Pantera|             28| 39.17857142857143|\n",
      "|              Eminem|             21| 6.571428571428571|\n",
      "|           Benighted|             18|               0.0|\n",
      "|           Bloodbath|             14|29.857142857142858|\n",
      "|Bring Me The Horizon|             14| 38.07142857142857|\n",
      "|      Marilyn Manson|             13|1.2307692307692308|\n",
      "|           Deez Nuts|             11|21.636363636363637|\n",
      "|Here Comes The Kr...|             10|              15.4|\n",
      "|              Psykup|             10|               9.1|\n",
      "|      Richard Cheese|              9|32.666666666666664|\n",
      "+--------------------+---------------+------------------+\n",
      "\n"
     ]
    }
   ],
   "source": [
    "explicit_tracks = (df[df[\"explicit\"]]\n",
    "                   .groupBy(\"artist\")\n",
    "                   .agg({\"track\": \"count\", \"popularity\": \"mean\"})\n",
    "                   .orderBy(\"count(track)\", ascending=False)\n",
    "                   .limit(10)\n",
    "                   .select(F.col(\"artist\"), F.col(\"count(track)\").alias(\"explicit_tracks\"), F.col(\"avg(popularity)\").alias(\"avg_popularity\"))\n",
    "                   )\n",
    "\n",
    "explicit_tracks.show()\n"
   ]
  },
  {
   "cell_type": "code",
   "execution_count": null,
   "metadata": {},
   "outputs": [],
   "source": [
    "(explicit_tracks\n",
    " .select(\"explicit_tracks\", \"avg_popularity\")\n",
    " .summary()\n",
    " .show()\n",
    " )\n"
   ]
  },
  {
   "cell_type": "markdown",
   "metadata": {},
   "source": [
    "## Considerações finais\n",
    "\n",
    "Como analisado, concluiu-se que:\n",
    "\n",
    "- A duração média dos tracks foi de 3,52 minutos, com a maior duração sendo de 21 minutos e a menor de 5 segundos;\n",
    "- O artista com a maior média de popularidade de seus tracks foi **Eurythmics**, com 81 pontos de popularidade e 1 track;\n",
    "- O artista com a menor média de popularidade de seus tracks foi **Kreator**, com 0 pontos e 63 tracks;\n",
    "- O artista com mais tracks explícitos foi **Pantera**, com uma média de 39,18 pontos de popularidade com 28 tracks;\n",
    "- Cada artista com tracks explícitos teve em média 14 tracks, com uma média de popularidade de 19,37 pontos;\n",
    "- A média mais alta de popularidade foi 39,17 pontos, e a média de tracks explícitos por artista foi de 28 tracks;\n"
   ]
  }
 ],
 "metadata": {
  "kernelspec": {
   "display_name": "Python 3.8.10 64-bit",
   "language": "python",
   "name": "python3"
  },
  "language_info": {
   "codemirror_mode": {
    "name": "ipython",
    "version": 3
   },
   "file_extension": ".py",
   "mimetype": "text/x-python",
   "name": "python",
   "nbconvert_exporter": "python",
   "pygments_lexer": "ipython3",
   "version": "3.8.10"
  },
  "orig_nbformat": 4,
  "vscode": {
   "interpreter": {
    "hash": "916dbcbb3f70747c44a77c7bcd40155683ae19c65e1c03b4aa3499c5328201f1"
   }
  }
 },
 "nbformat": 4,
 "nbformat_minor": 2
}
